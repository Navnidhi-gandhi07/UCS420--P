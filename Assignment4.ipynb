{
  "nbformat": 4,
  "nbformat_minor": 0,
  "metadata": {
    "colab": {
      "provenance": [],
      "authorship_tag": "ABX9TyMvKKJBFk5TUVkNgD2oFcO+",
      "include_colab_link": true
    },
    "kernelspec": {
      "name": "python3",
      "display_name": "Python 3"
    },
    "language_info": {
      "name": "python"
    }
  },
  "cells": [
    {
      "cell_type": "markdown",
      "metadata": {
        "id": "view-in-github",
        "colab_type": "text"
      },
      "source": [
        "<a href=\"https://colab.research.google.com/github/Navnidhi-gandhi07/UCS420--P/blob/main/Assignment4.ipynb\" target=\"_parent\"><img src=\"https://colab.research.google.com/assets/colab-badge.svg\" alt=\"Open In Colab\"/></a>"
      ]
    },
    {
      "cell_type": "markdown",
      "source": [
        "Q.1 Write a program to create a NumPy 1D-array with 5 elements and perform basic\n",
        "operations like:\n",
        "a) Addition of 2 in all the element\n",
        "b) Multiply 3 with all the elements\n",
        "c) Divide every element by 2\n"
      ],
      "metadata": {
        "id": "QmrsC3ItRbdm"
      }
    },
    {
      "cell_type": "code",
      "source": [
        "import numpy as np\n",
        "a=np.array([0,1,2,3,4])\n",
        "z=2+a\n",
        "print(z)\n",
        "y=3*a\n",
        "s=a/2\n",
        "print( y)\n",
        "print(s)\n"
      ],
      "metadata": {
        "colab": {
          "base_uri": "https://localhost:8080/"
        },
        "id": "_wwy7hRZRjud",
        "outputId": "4de36f68-66a1-4eec-ae2c-0cf737fe3d28"
      },
      "execution_count": null,
      "outputs": [
        {
          "output_type": "stream",
          "name": "stdout",
          "text": [
            "[2 3 4 5 6]\n",
            "[ 0  3  6  9 12]\n",
            "[0.  0.5 1.  1.5 2. ]\n"
          ]
        }
      ]
    },
    {
      "cell_type": "markdown",
      "source": [
        "Questions on Basic NumPy Array:\n",
        "a) Reverse the NumPy array: arr = np.array([1, 2, 3, 6, 4, 5])\n",
        "b) Find the most frequent value and their indice(s) in the following arrays:\n",
        "i. x = np.array([1,2,3,4,5,1,2,1,1,1])\n",
        "ii. y = np.array([1, 1, 1, 2, 3, 4, 2, 4, 3, 3, ])"
      ],
      "metadata": {
        "id": "VsjbWkK0UOTk"
      }
    },
    {
      "cell_type": "code",
      "source": [
        "\n",
        "import numpy as np\n",
        "arr=np.array([1,2,3,6,4,5])\n",
        "z=arr[::-1]\n",
        "print(f\"the reverse array is {z}\")\n",
        "x = np.array([1,2,3,4,5,1,2,1,1,1])\n",
        "countx=np.bincount(x)\n",
        "mostfrequentx=np.argmax(countx)\n",
        "indexx=np.where(x==mostfrequentx)[0]\n",
        "print(\"index\",indexx)\n",
        "print(\"most frequent element\",mostfrequentx)\n",
        "\n",
        "y = np.array([1, 1, 1, 2, 3, 4, 2, 4, 3, 3])\n",
        "county = np.bincount(y)\n",
        "mostfrequent = np.max(county)\n",
        "mostfrequentvalues = np.where(county == mostfrequent)[0]\n",
        "indices = {val: np.where(y == val)[0] for val in mostfrequentvalues}\n",
        "for val, index in indices.items():\n",
        "   print(f\"Value {val}  at indices: {index}\")\n",
        "\n",
        "print(\"Most frequent elements:\", mostfrequentvalues)\n"
      ],
      "metadata": {
        "colab": {
          "base_uri": "https://localhost:8080/"
        },
        "id": "szS9nC0qUSj4",
        "outputId": "bba5766c-e705-4db9-e9a8-4b7e17b326a9"
      },
      "execution_count": null,
      "outputs": [
        {
          "output_type": "stream",
          "name": "stdout",
          "text": [
            "the reverse array is [5 4 6 3 2 1]\n",
            "index [0 5 7 8 9]\n",
            "most frequent element 1\n",
            "Value 1  at indices: [0 1 2]\n",
            "Value 3  at indices: [4 8 9]\n",
            "Most frequent elements: [1 3]\n"
          ]
        }
      ]
    },
    {
      "cell_type": "markdown",
      "source": [
        "Q.3 For the given 2-D array arr=np.array([10, 20, 30], [40, 50, 60], [70, 80, 90]), access\n",
        "elements using row and column indices as follows:\n",
        "a) Access 1st row, 2nd column\n",
        "b) Access 3rd row, 1st column"
      ],
      "metadata": {
        "id": "19Bu9zrHhcBR"
      }
    },
    {
      "cell_type": "code",
      "source": [
        "import numpy as np\n",
        "arr=np.array([[10, 20, 30], [40, 50, 60], [70, 80, 90]])\n",
        "index1=arr[0,1]\n",
        "index2=arr[2,0]\n",
        "print(index1,\"\\n\",index2)\n"
      ],
      "metadata": {
        "colab": {
          "base_uri": "https://localhost:8080/"
        },
        "id": "VP3ybWHChf6f",
        "outputId": "b796f07a-753f-4509-e3d2-2436e72c001e"
      },
      "execution_count": null,
      "outputs": [
        {
          "output_type": "stream",
          "name": "stdout",
          "text": [
            "20 \n",
            " 70\n"
          ]
        }
      ]
    },
    {
      "cell_type": "markdown",
      "source": [
        "Q.4 Write program to create an 1-D NumPy array named <<Your Name>> with evenly\n",
        "spaced 25 numbers from 10 to 100 using linspace(). Print the dimensions of the array,\n",
        "shape, total elements, the data type of each element and total number of bytes consumed\n",
        "by the array. Find the transpose of this array using reshape() attribute. Can we do the same\n",
        "with T attribute?"
      ],
      "metadata": {
        "id": "eYcWxZv8jSRY"
      }
    },
    {
      "cell_type": "code",
      "source": [
        "import numpy as np\n",
        "navnidhi=np.linspace(10,100,25)\n",
        "print(navnidhi.ndim)\n",
        "print(navnidhi.shape)\n",
        "print(navnidhi.dtype)\n",
        "print(navnidhi.nbytes)\n",
        "\n",
        "reshape=navnidhi.reshape(25,1)\n",
        "print(reshape)\n",
        "transpose=reshape.T\n",
        "print(\"after transpose \", transpose)\n",
        "\n",
        "\n"
      ],
      "metadata": {
        "colab": {
          "base_uri": "https://localhost:8080/"
        },
        "id": "donuYtYBjTHV",
        "outputId": "00a28a56-de17-431d-9076-1fe6dbfa5c1e"
      },
      "execution_count": null,
      "outputs": [
        {
          "output_type": "stream",
          "name": "stdout",
          "text": [
            "1\n",
            "(25,)\n",
            "float64\n",
            "200\n",
            "[[ 10.  ]\n",
            " [ 13.75]\n",
            " [ 17.5 ]\n",
            " [ 21.25]\n",
            " [ 25.  ]\n",
            " [ 28.75]\n",
            " [ 32.5 ]\n",
            " [ 36.25]\n",
            " [ 40.  ]\n",
            " [ 43.75]\n",
            " [ 47.5 ]\n",
            " [ 51.25]\n",
            " [ 55.  ]\n",
            " [ 58.75]\n",
            " [ 62.5 ]\n",
            " [ 66.25]\n",
            " [ 70.  ]\n",
            " [ 73.75]\n",
            " [ 77.5 ]\n",
            " [ 81.25]\n",
            " [ 85.  ]\n",
            " [ 88.75]\n",
            " [ 92.5 ]\n",
            " [ 96.25]\n",
            " [100.  ]]\n",
            "after transpose  [[ 10.    13.75  17.5   21.25  25.    28.75  32.5   36.25  40.    43.75\n",
            "   47.5   51.25  55.    58.75  62.5   66.25  70.    73.75  77.5   81.25\n",
            "   85.    88.75  92.5   96.25 100.  ]]\n"
          ]
        }
      ]
    },
    {
      "cell_type": "markdown",
      "source": [
        "Q5. Create a 2-D Array of three rows and four columns, named ucs420_<your_name>>\n",
        "with following values – 10, 20, 30, 40, 50, 60, 70, 80, 90, 15, 20, 35. Compute the mean,\n",
        "median, max, min, unique elements. Reshape the array to four rows and three columns and\n",
        "name it as reshaped_ ucs420_<your_name>>. Resize the array to two rows and three\n",
        "columns and name it as resized_ ucs420_<your_name>>."
      ],
      "metadata": {
        "id": "Piin8zQujTq5"
      }
    },
    {
      "cell_type": "code",
      "source": [
        "import numpy as np\n",
        "ucs420=np.array([[10,20,30,40],[50,60,70,80],[90,15,20,35]])\n",
        "mean=np.mean(ucs420)\n",
        "median=np.median(ucs420)\n",
        "maximum=np.max(ucs420)\n",
        "minimum=np.min(ucs420)\n",
        "uniqueelements=np.unique(ucs420)\n",
        "print(mean)\n",
        "print(median)\n",
        "print(maximum)\n",
        "print(minimum)\n",
        "print(uniqueelements)\n",
        "reshaped=ucs420.reshape(4,3)\n",
        "print(reshaped)\n",
        "resized=np.resize(ucs420,(2,3))\n",
        "print(resized)"
      ],
      "metadata": {
        "colab": {
          "base_uri": "https://localhost:8080/"
        },
        "id": "Ih-dK-FGjWF5",
        "outputId": "330aac2c-ba3e-4b5e-c245-815d26ee400e"
      },
      "execution_count": null,
      "outputs": [
        {
          "output_type": "stream",
          "name": "stdout",
          "text": [
            "43.333333333333336\n",
            "37.5\n",
            "90\n",
            "10\n",
            "[10 15 20 30 35 40 50 60 70 80 90]\n",
            "[[10 20 30]\n",
            " [40 50 60]\n",
            " [70 80 90]\n",
            " [15 20 35]]\n",
            "[[10 20 30]\n",
            " [40 50 60]]\n"
          ]
        }
      ]
    }
  ]
}